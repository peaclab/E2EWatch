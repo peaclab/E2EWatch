{
 "cells": [
  {
   "cell_type": "code",
   "execution_count": 19,
   "metadata": {},
   "outputs": [],
   "source": [
    "import os\n",
    "from os import listdir\n",
    "from os.path import isfile, join, isdir\n",
    "import json\n",
    "import pandas as pd\n",
    "import numpy as np\n",
    "import seaborn as sns\n",
    "import matplotlib.pyplot as plt\n",
    "from pathlib import Path\n",
    "import logging\n",
    "import json \n",
    "\n",
    "sns.set(rc={'figure.figsize':(12,8)})\n",
    "palette= sns.color_palette(\"Dark2\")\n",
    "sns.set_style(\"whitegrid\")\n",
    "sns.set_context(\"talk\")\n",
    "import json\n",
    "\n",
    "import sys\n",
    "sys.path.insert(1,'/usr3/graduate/baksar/projectx/E2EWatch/utils/')\n",
    "from config import Configuration"
   ]
  },
  {
   "cell_type": "code",
   "execution_count": 20,
   "metadata": {},
   "outputs": [],
   "source": [
    "def change_width(ax, new_value) :\n",
    "    for patch in ax.patches :\n",
    "        current_width = patch.get_width()\n",
    "        diff = current_width - new_value\n",
    "\n",
    "        # we change the bar width\n",
    "        patch.set_width(new_value)\n",
    "\n",
    "        # we recenter the bar\n",
    "        patch.set_x(patch.get_x() + diff * .5)"
   ]
  },
  {
   "cell_type": "code",
   "execution_count": 21,
   "metadata": {},
   "outputs": [],
   "source": [
    "def collectExperimentResults(conf, cv_index, DEBUG=False):\n",
    "        \n",
    "    score_df = pd.DataFrame(columns=['f1-score','anomaly','model'])    \n",
    "    alarm_df = pd.DataFrame(columns=['anom_miss_rate','false_alarm_rate'])   \n",
    "    \n",
    "    with open(conf['experiment_dir'] / ('anom_dict.json')) as f:\n",
    "        ANOM_DICT = json.load(f) \n",
    "    \n",
    "    report_path = conf['results_dir'] \n",
    "    \n",
    "    #Read model's results for different finetuning data sizes\n",
    "    for json_file in sorted(report_path.glob(\"*.json\")):\n",
    "        \n",
    "        \n",
    "        if 'time_dict' in str(json_file):\n",
    "            continue\n",
    "                \n",
    "        try:\n",
    "            with open(json_file) as file:\n",
    "                report_dict = json.load(file)\n",
    "                \n",
    "        except:\n",
    "            print(\"No such file or directory for split:\",json_file)                 \n",
    "                \n",
    "        model_name = str(json_file).split('/')[-1].split('_')[0]\n",
    "        dataset = str(json_file).split('/')[-1].split('_')[1]\n",
    "        report_type = str(json_file).split('/')[-1].split('_')[2]\n",
    "                              \n",
    "        if report_type == 'report':\n",
    "            \n",
    "            for anom_name,anom_encoded in ANOM_DICT.items():\n",
    "                                \n",
    "                score_df = score_df.append({'model':  model_name,\n",
    "                                            'anomaly': anom_name,\n",
    "                                            'f1-score':report_dict[str(anom_encoded)]['f1-score'],\n",
    "                                            'cv_index': cv_index},ignore_index=True)\n",
    "        elif report_type == 'alert':            \n",
    "            alarm_df = alarm_df.append({ 'model': model_name,\n",
    "                                    'false_alarm_rate':report_dict['false_alarm_rate'],\n",
    "                                    'anom_miss_rate':report_dict['anom_miss_rate'],\n",
    "                                     'cv_index': cv_index},ignore_index=True)            \n",
    "            \n",
    "                            \n",
    "    #score_df.sort_values(by='size',ascending=False,inplace=True)\n",
    "    #alarm_df.sort_values(by='size',ascending=False,inplace=True)\n",
    "    \n",
    "    return score_df,alarm_df"
   ]
  },
  {
   "cell_type": "code",
   "execution_count": 22,
   "metadata": {},
   "outputs": [],
   "source": [
    "def readModelConfig(exp_name,cv_index,model_name,system):\n",
    "    \"\"\"Reads saved config file and returns as a dictionary\"\"\"\n",
    "    \n",
    "    import math    \n",
    "    config_path = Path('/projectnb/peaclab-mon/aksar/models/DeploymentModels/{system}/{exp_name}/CV_{cv_index}/{model_name}/model_config.csv'.format(system=system,exp_name=exp_name,cv_index=cv_index,model_name=model_name))\n",
    "    \n",
    "    conf = {}\n",
    "    try:\n",
    "        conf_csv = pd.read_csv(config_path)\n",
    "    except:\n",
    "        logging.info(\"Config.csv doesn't exist\")\n",
    "    \n",
    "\n",
    "    for column in conf_csv.columns:\n",
    "        \n",
    "        if isinstance(conf_csv[column][0],str):\n",
    "            if 'dir' in column:\n",
    "                conf[column] = Path(conf_csv[column][0])\n",
    "            else:\n",
    "                conf[column] = conf_csv[column][0]\n",
    "                \n",
    "        #FIXME: Find a generic comparison for integers\n",
    "        elif isinstance(conf_csv[column][0],np.int64):\n",
    "                conf[column] = conf_csv[column][0]  \n",
    "                \n",
    "        elif isinstance(conf_csv[column][0],np.bool_):\n",
    "                conf[column] = conf_csv[column][0]                  \n",
    "        else:\n",
    "            if math.isnan(conf_csv[column][0]):\n",
    "                conf[column] = None\n",
    "        \n",
    "    return conf"
   ]
  },
  {
   "cell_type": "code",
   "execution_count": 23,
   "metadata": {},
   "outputs": [],
   "source": [
    "#CV_FOLDS = [0,1,2,3,4]\n",
    "CV_FOLDS = [0]\n",
    "\n",
    "MODEL_NAME = 'random_forest' \n",
    "SYSTEM = 'eclipse'\n",
    "FS = 1\n",
    "\n",
    "#EXP_NAME = 'eclipse_verification_sampled'\n",
    "#EXP_NAME = 'final_window_10min'\n",
    "#EXP_NAME = 'final_window_5min'\n",
    "#EXP_NAME = 'tpds_window_45sec'\n",
    "#EXP_NAME = 'final_window_5min'\n",
    "#EXP_NAME = 'final_window_45sec'\n",
    "EXP_NAME = 'final_window_60sec'\n",
    "\n",
    "\n",
    "# if not FS:\n",
    "#     MODEL = 'rf' \n",
    "# else:\n",
    "#     MODEL = 'rf-fs'\n",
    "\n",
    "SCALER = 'MinMax'"
   ]
  },
  {
   "cell_type": "code",
   "execution_count": 24,
   "metadata": {},
   "outputs": [],
   "source": [
    "f1_score_df, alarm_score_df = pd.DataFrame(),pd.DataFrame()\n",
    "\n",
    "for cv_index in CV_FOLDS:   \n",
    "    \n",
    "    model_config = readModelConfig(exp_name=EXP_NAME,cv_index=cv_index,model_name=MODEL_NAME,system=SYSTEM)   \n",
    "    temp_score_df,temp_alarm_df= collectExperimentResults(model_config,cv_index=cv_index)\n",
    "    f1_score_df = pd.concat([f1_score_df,temp_score_df])\n",
    "    alarm_score_df = pd.concat([alarm_score_df,temp_alarm_df])\n",
    "    \n",
    "if FS:\n",
    "    f1_score_df = f1_score_df[f1_score_df['model'].str.contains('fs')]\n",
    "    alarm_score_df = alarm_score_df[alarm_score_df['model'].str.contains('fs')]\n",
    "#f1_score_df = f1_score_df[f1_score_df['model'] == MODEL]\n",
    "#alarm_score_df = alarm_score_df[alarm_score_df['model'] == MODEL]          \n",
    "\n",
    "alarm_score_df['anom_miss_rate'] *= 100\n",
    "alarm_score_df['false_alarm_rate'] *= 100"
   ]
  },
  {
   "cell_type": "code",
   "execution_count": 25,
   "metadata": {},
   "outputs": [
    {
     "data": {
      "text/html": [
       "<div>\n",
       "<style scoped>\n",
       "    .dataframe tbody tr th:only-of-type {\n",
       "        vertical-align: middle;\n",
       "    }\n",
       "\n",
       "    .dataframe tbody tr th {\n",
       "        vertical-align: top;\n",
       "    }\n",
       "\n",
       "    .dataframe thead th {\n",
       "        text-align: right;\n",
       "    }\n",
       "</style>\n",
       "<table border=\"1\" class=\"dataframe\">\n",
       "  <thead>\n",
       "    <tr style=\"text-align: right;\">\n",
       "      <th></th>\n",
       "      <th>anom_miss_rate</th>\n",
       "      <th>false_alarm_rate</th>\n",
       "      <th>cv_index</th>\n",
       "      <th>model</th>\n",
       "    </tr>\n",
       "  </thead>\n",
       "  <tbody>\n",
       "    <tr>\n",
       "      <th>0</th>\n",
       "      <td>0.065418</td>\n",
       "      <td>0.000936</td>\n",
       "      <td>0.0</td>\n",
       "      <td>lgbm-fs</td>\n",
       "    </tr>\n",
       "    <tr>\n",
       "      <th>1</th>\n",
       "      <td>0.124396</td>\n",
       "      <td>0.030891</td>\n",
       "      <td>0.0</td>\n",
       "      <td>rf-fs</td>\n",
       "    </tr>\n",
       "    <tr>\n",
       "      <th>2</th>\n",
       "      <td>0.050165</td>\n",
       "      <td>0.000936</td>\n",
       "      <td>0.0</td>\n",
       "      <td>xgboost-fs</td>\n",
       "    </tr>\n",
       "  </tbody>\n",
       "</table>\n",
       "</div>"
      ],
      "text/plain": [
       "   anom_miss_rate  false_alarm_rate  cv_index       model\n",
       "0        0.065418          0.000936       0.0     lgbm-fs\n",
       "1        0.124396          0.030891       0.0       rf-fs\n",
       "2        0.050165          0.000936       0.0  xgboost-fs"
      ]
     },
     "execution_count": 25,
     "metadata": {},
     "output_type": "execute_result"
    }
   ],
   "source": [
    "alarm_score_df"
   ]
  },
  {
   "cell_type": "code",
   "execution_count": 26,
   "metadata": {},
   "outputs": [
    {
     "data": {
      "text/html": [
       "<div>\n",
       "<style scoped>\n",
       "    .dataframe tbody tr th:only-of-type {\n",
       "        vertical-align: middle;\n",
       "    }\n",
       "\n",
       "    .dataframe tbody tr th {\n",
       "        vertical-align: top;\n",
       "    }\n",
       "\n",
       "    .dataframe thead th {\n",
       "        text-align: right;\n",
       "    }\n",
       "</style>\n",
       "<table border=\"1\" class=\"dataframe\">\n",
       "  <thead>\n",
       "    <tr style=\"text-align: right;\">\n",
       "      <th></th>\n",
       "      <th>f1-score</th>\n",
       "      <th>anomaly</th>\n",
       "      <th>model</th>\n",
       "      <th>cv_index</th>\n",
       "    </tr>\n",
       "  </thead>\n",
       "  <tbody>\n",
       "    <tr>\n",
       "      <th>0</th>\n",
       "      <td>0.999093</td>\n",
       "      <td>None</td>\n",
       "      <td>lgbm-fs</td>\n",
       "      <td>0.0</td>\n",
       "    </tr>\n",
       "    <tr>\n",
       "      <th>1</th>\n",
       "      <td>0.934001</td>\n",
       "      <td>cachecopy</td>\n",
       "      <td>lgbm-fs</td>\n",
       "      <td>0.0</td>\n",
       "    </tr>\n",
       "    <tr>\n",
       "      <th>2</th>\n",
       "      <td>0.737776</td>\n",
       "      <td>cpuoccupy</td>\n",
       "      <td>lgbm-fs</td>\n",
       "      <td>0.0</td>\n",
       "    </tr>\n",
       "    <tr>\n",
       "      <th>3</th>\n",
       "      <td>0.857941</td>\n",
       "      <td>membw</td>\n",
       "      <td>lgbm-fs</td>\n",
       "      <td>0.0</td>\n",
       "    </tr>\n",
       "    <tr>\n",
       "      <th>4</th>\n",
       "      <td>0.998859</td>\n",
       "      <td>memleak</td>\n",
       "      <td>lgbm-fs</td>\n",
       "      <td>0.0</td>\n",
       "    </tr>\n",
       "    <tr>\n",
       "      <th>5</th>\n",
       "      <td>0.998131</td>\n",
       "      <td>None</td>\n",
       "      <td>rf-fs</td>\n",
       "      <td>0.0</td>\n",
       "    </tr>\n",
       "    <tr>\n",
       "      <th>6</th>\n",
       "      <td>0.841703</td>\n",
       "      <td>cachecopy</td>\n",
       "      <td>rf-fs</td>\n",
       "      <td>0.0</td>\n",
       "    </tr>\n",
       "    <tr>\n",
       "      <th>7</th>\n",
       "      <td>0.694697</td>\n",
       "      <td>cpuoccupy</td>\n",
       "      <td>rf-fs</td>\n",
       "      <td>0.0</td>\n",
       "    </tr>\n",
       "    <tr>\n",
       "      <th>8</th>\n",
       "      <td>0.798129</td>\n",
       "      <td>membw</td>\n",
       "      <td>rf-fs</td>\n",
       "      <td>0.0</td>\n",
       "    </tr>\n",
       "    <tr>\n",
       "      <th>9</th>\n",
       "      <td>0.997646</td>\n",
       "      <td>memleak</td>\n",
       "      <td>rf-fs</td>\n",
       "      <td>0.0</td>\n",
       "    </tr>\n",
       "    <tr>\n",
       "      <th>10</th>\n",
       "      <td>0.999303</td>\n",
       "      <td>None</td>\n",
       "      <td>xgboost-fs</td>\n",
       "      <td>0.0</td>\n",
       "    </tr>\n",
       "    <tr>\n",
       "      <th>11</th>\n",
       "      <td>0.930610</td>\n",
       "      <td>cachecopy</td>\n",
       "      <td>xgboost-fs</td>\n",
       "      <td>0.0</td>\n",
       "    </tr>\n",
       "    <tr>\n",
       "      <th>12</th>\n",
       "      <td>0.731094</td>\n",
       "      <td>cpuoccupy</td>\n",
       "      <td>xgboost-fs</td>\n",
       "      <td>0.0</td>\n",
       "    </tr>\n",
       "    <tr>\n",
       "      <th>13</th>\n",
       "      <td>0.853365</td>\n",
       "      <td>membw</td>\n",
       "      <td>xgboost-fs</td>\n",
       "      <td>0.0</td>\n",
       "    </tr>\n",
       "    <tr>\n",
       "      <th>14</th>\n",
       "      <td>0.999124</td>\n",
       "      <td>memleak</td>\n",
       "      <td>xgboost-fs</td>\n",
       "      <td>0.0</td>\n",
       "    </tr>\n",
       "  </tbody>\n",
       "</table>\n",
       "</div>"
      ],
      "text/plain": [
       "    f1-score    anomaly       model  cv_index\n",
       "0   0.999093       None     lgbm-fs       0.0\n",
       "1   0.934001  cachecopy     lgbm-fs       0.0\n",
       "2   0.737776  cpuoccupy     lgbm-fs       0.0\n",
       "3   0.857941      membw     lgbm-fs       0.0\n",
       "4   0.998859    memleak     lgbm-fs       0.0\n",
       "5   0.998131       None       rf-fs       0.0\n",
       "6   0.841703  cachecopy       rf-fs       0.0\n",
       "7   0.694697  cpuoccupy       rf-fs       0.0\n",
       "8   0.798129      membw       rf-fs       0.0\n",
       "9   0.997646    memleak       rf-fs       0.0\n",
       "10  0.999303       None  xgboost-fs       0.0\n",
       "11  0.930610  cachecopy  xgboost-fs       0.0\n",
       "12  0.731094  cpuoccupy  xgboost-fs       0.0\n",
       "13  0.853365      membw  xgboost-fs       0.0\n",
       "14  0.999124    memleak  xgboost-fs       0.0"
      ]
     },
     "execution_count": 26,
     "metadata": {},
     "output_type": "execute_result"
    }
   ],
   "source": [
    "f1_score_df"
   ]
  },
  {
   "cell_type": "code",
   "execution_count": 27,
   "metadata": {},
   "outputs": [
    {
     "data": {
      "text/html": [
       "<div>\n",
       "<style scoped>\n",
       "    .dataframe tbody tr th:only-of-type {\n",
       "        vertical-align: middle;\n",
       "    }\n",
       "\n",
       "    .dataframe tbody tr th {\n",
       "        vertical-align: top;\n",
       "    }\n",
       "\n",
       "    .dataframe thead th {\n",
       "        text-align: right;\n",
       "    }\n",
       "</style>\n",
       "<table border=\"1\" class=\"dataframe\">\n",
       "  <thead>\n",
       "    <tr style=\"text-align: right;\">\n",
       "      <th></th>\n",
       "      <th>anom_miss_rate</th>\n",
       "      <th>false_alarm_rate</th>\n",
       "      <th>cv_index</th>\n",
       "      <th>model</th>\n",
       "    </tr>\n",
       "  </thead>\n",
       "  <tbody>\n",
       "    <tr>\n",
       "      <th>0</th>\n",
       "      <td>0.065418</td>\n",
       "      <td>0.000936</td>\n",
       "      <td>0.0</td>\n",
       "      <td>lgbm-fs</td>\n",
       "    </tr>\n",
       "    <tr>\n",
       "      <th>1</th>\n",
       "      <td>0.124396</td>\n",
       "      <td>0.030891</td>\n",
       "      <td>0.0</td>\n",
       "      <td>rf-fs</td>\n",
       "    </tr>\n",
       "    <tr>\n",
       "      <th>2</th>\n",
       "      <td>0.050165</td>\n",
       "      <td>0.000936</td>\n",
       "      <td>0.0</td>\n",
       "      <td>xgboost-fs</td>\n",
       "    </tr>\n",
       "  </tbody>\n",
       "</table>\n",
       "</div>"
      ],
      "text/plain": [
       "   anom_miss_rate  false_alarm_rate  cv_index       model\n",
       "0        0.065418          0.000936       0.0     lgbm-fs\n",
       "1        0.124396          0.030891       0.0       rf-fs\n",
       "2        0.050165          0.000936       0.0  xgboost-fs"
      ]
     },
     "execution_count": 27,
     "metadata": {},
     "output_type": "execute_result"
    }
   ],
   "source": [
    "alarm_score_df"
   ]
  },
  {
   "cell_type": "markdown",
   "metadata": {},
   "source": [
    "## F1-score and alarm rates"
   ]
  },
  {
   "cell_type": "code",
   "execution_count": 28,
   "metadata": {},
   "outputs": [
    {
     "data": {
      "image/png": "[encoded data removed]",
      "text/plain": [
       "<Figure size 1440x432 with 2 Axes>"
      ]
     },
     "metadata": {},
     "output_type": "display_data"
    }
   ],
   "source": [
    "fig, axs = plt.subplots(nrows=1, ncols=2, \n",
    "                                    figsize=(20, 6))\n",
    "\n",
    "sns.barplot(x='anomaly',y='f1-score',                \n",
    "                 palette = palette,\n",
    "                 hue = 'model',\n",
    "                 #dodge=False,  \n",
    "                 saturation = 1,\n",
    "                 ax = axs[0],\n",
    "                 data=f1_score_df)\n",
    "\n",
    "#axs[0].set_title('F1-Scores for Window Size '+str(model_config['window_size']) + ' with FS')\n",
    "#axs[0].set_title('F1-Scores')\n",
    "axs[0].set_xlabel('Labels')\n",
    "axs[0].set_ylabel('F1-Scores')\n",
    "handles, labels = axs[0].get_legend_handles_labels()\n",
    "axs[0].legend(handles,['lgbm','rf','xgboost'])\n",
    "axs[0].set_ylim([0.6,1])\n",
    "\n",
    "sns.barplot(x='Miss Rate',y='Scores',                \n",
    "                 palette = palette,\n",
    "                 #dodge=False,                 \n",
    "                 ax = axs[1],\n",
    "                 hue = 'model',\n",
    "                 saturation = 1,\n",
    "                 data=pd.melt(alarm_score_df,id_vars=['cv_index','model'],\n",
    "                            value_vars=['anom_miss_rate','false_alarm_rate'],\n",
    "                            var_name='Miss Rate', value_name='Scores'))\n",
    "\n",
    "axs[1].set_xlabel('')\n",
    "axs[1].set_ylabel('(%)')\n",
    "axs[1].set_xticklabels(['Anomaly Miss \\n Rate','False Alarm \\n Rate'])\n",
    "handles, labels = axs[1].get_legend_handles_labels()\n",
    "axs[1].legend(handles,['lgbm','rf','xgboost'])\n",
    "change_width(axs[1], .35)\n",
    "\n",
    "handles, labels = axs[0].get_legend_handles_labels()\n",
    "fig.legend(handles, ['lgbm','rf','xgboost'], loc='lower left', bbox_to_anchor=(0.28, 0.9, 0.3, 0.4), ncol=3, frameon=True, mode='None',)\n",
    "axs[0].get_legend().remove()\n",
    "axs[1].get_legend().remove()\n",
    "\n",
    "plt.savefig(model_config['plots_dir'] / 'diagnosis_all.pdf',bbox_inches='tight')"
   ]
  },
  {
   "cell_type": "markdown",
   "metadata": {},
   "source": [
    "## Timing Comparison"
   ]
  },
  {
   "cell_type": "code",
   "execution_count": 48,
   "metadata": {},
   "outputs": [],
   "source": [
    "#TODO: sorting? "
   ]
  },
  {
   "cell_type": "code",
   "execution_count": 49,
   "metadata": {},
   "outputs": [],
   "source": [
    "MODELS = ['lgbm','rf','xgboost']\n",
    "time_dict = {}\n",
    "for MODEL in MODELS:\n",
    "    if FS:\n",
    "        MODEL = MODEL + '-fs'\n",
    "    try:\n",
    "        with open(model_config['results_dir'] / '{}_time_dict.json'.format(MODEL)) as f:\n",
    "            temp_dict = json.load(f)\n",
    "        time_dict[MODEL] = temp_dict[MODEL]\n",
    "    except:\n",
    "        print(\"{} does not exist\".format(MODEL))"
   ]
  },
  {
   "cell_type": "code",
   "execution_count": 50,
   "metadata": {},
   "outputs": [
    {
     "data": {
      "text/plain": [
       "{'lgbm-fs': {'training_time': 211.2695186138153,\n",
       "  'inference_time': 7.090566635131836},\n",
       " 'rf-fs': {'training_time': 330.3171262741089,\n",
       "  'inference_time': 1.82490873336792},\n",
       " 'xgboost-fs': {'training_time': 888.2955634593964,\n",
       "  'inference_time': 15.260454177856445}}"
      ]
     },
     "execution_count": 50,
     "metadata": {},
     "output_type": "execute_result"
    }
   ],
   "source": [
    "time_dict"
   ]
  },
  {
   "cell_type": "code",
   "execution_count": 51,
   "metadata": {},
   "outputs": [
    {
     "data": {
      "text/html": [
       "<div>\n",
       "<style scoped>\n",
       "    .dataframe tbody tr th:only-of-type {\n",
       "        vertical-align: middle;\n",
       "    }\n",
       "\n",
       "    .dataframe tbody tr th {\n",
       "        vertical-align: top;\n",
       "    }\n",
       "\n",
       "    .dataframe thead th {\n",
       "        text-align: right;\n",
       "    }\n",
       "</style>\n",
       "<table border=\"1\" class=\"dataframe\">\n",
       "  <thead>\n",
       "    <tr style=\"text-align: right;\">\n",
       "      <th></th>\n",
       "      <th>model</th>\n",
       "      <th>Training Time</th>\n",
       "      <th>Inference Time</th>\n",
       "    </tr>\n",
       "  </thead>\n",
       "  <tbody>\n",
       "    <tr>\n",
       "      <th>0</th>\n",
       "      <td>lgbm-fs</td>\n",
       "      <td>211.269519</td>\n",
       "      <td>7.090567</td>\n",
       "    </tr>\n",
       "    <tr>\n",
       "      <th>1</th>\n",
       "      <td>rf-fs</td>\n",
       "      <td>330.317126</td>\n",
       "      <td>1.824909</td>\n",
       "    </tr>\n",
       "    <tr>\n",
       "      <th>2</th>\n",
       "      <td>xgboost-fs</td>\n",
       "      <td>888.295563</td>\n",
       "      <td>15.260454</td>\n",
       "    </tr>\n",
       "  </tbody>\n",
       "</table>\n",
       "</div>"
      ],
      "text/plain": [
       "        model  Training Time  Inference Time\n",
       "0     lgbm-fs     211.269519        7.090567\n",
       "1       rf-fs     330.317126        1.824909\n",
       "2  xgboost-fs     888.295563       15.260454"
      ]
     },
     "execution_count": 51,
     "metadata": {},
     "output_type": "execute_result"
    }
   ],
   "source": [
    "dataframe = pd.DataFrame.from_dict(time_dict).transpose()#,orient='index',columns=['a','b','c','d','e'])\n",
    "dataframe.round(2)\n",
    "dataframe.index.name = 'model'\n",
    "dataframe.reset_index(inplace=True)\n",
    "dataframe.rename(columns={'training_time':'Training Time','inference_time':'Inference Time'},inplace=True)\n",
    "dataframe"
   ]
  },
  {
   "cell_type": "code",
   "execution_count": 52,
   "metadata": {},
   "outputs": [],
   "source": [
    "dataframe = pd.melt(dataframe, id_vars=['model'],value_vars=['Training Time','Inference Time'],value_name='time')\n",
    "\n",
    "dataframe.loc[dataframe['variable'] == 'Training Time','scaled_time'] = dataframe.loc[dataframe['variable'] == 'Training Time']['time'] / min(dataframe.loc[dataframe['variable'] == 'Training Time']['time'])\n",
    "dataframe.loc[dataframe['variable'] == 'Inference Time','scaled_time'] = dataframe.loc[dataframe['variable'] == 'Inference Time']['time'] / min(dataframe.loc[dataframe['variable'] == 'Inference Time']['time'])\n",
    "dataframe.sort_values('scaled_time',inplace=True)"
   ]
  },
  {
   "cell_type": "code",
   "execution_count": 53,
   "metadata": {},
   "outputs": [
    {
     "data": {
      "image/png": "[encoded data removed]",
      "text/plain": [
       "<Figure size 1312.05x432 with 1 Axes>"
      ]
     },
     "metadata": {},
     "output_type": "display_data"
    }
   ],
   "source": [
    "palette= sns.color_palette(\"tab10\")\n",
    "\n",
    "sns.set_style(\"whitegrid\")\n",
    "sns.set_context(\"talk\")\n",
    "\n",
    "g = sns.catplot(x='variable',y='scaled_time',                \n",
    "                 palette = palette[3:6],\n",
    "                 kind = 'bar',\n",
    "                 #ax = axs[1],\n",
    "                 height=6, aspect=2.7,\n",
    "                 hue = 'model',\n",
    "                 order =['Training Time','Inference Time'],\n",
    "                 data=dataframe)\n",
    "plt.title('Training and Inference Time Comparison',pad=30,fontdict={'fontsize': 20,'fontweight':'bold'})\n",
    "plt.ylabel('Relative Time')\n",
    "plt.xlabel('')\n",
    "plt.yticks([])\n",
    "#plt.xtickslabels(['Training Time','Inference Time'])\n",
    "\n",
    "ax = g.facet_axis(0,0)\n",
    "for p in ax.patches:\n",
    "    ax.text(p.get_x() + 0.05, \n",
    "            p.get_height() * 1.05, \n",
    "           '{0:.1f}x'.format(p.get_height()),   #Used to format it K representation\n",
    "            color='black', \n",
    "            rotation='horizontal', \n",
    "            size='large')"
   ]
  },
  {
   "cell_type": "code",
   "execution_count": null,
   "metadata": {},
   "outputs": [],
   "source": []
  },
  {
   "cell_type": "code",
   "execution_count": null,
   "metadata": {},
   "outputs": [],
   "source": []
  },
  {
   "cell_type": "code",
   "execution_count": null,
   "metadata": {},
   "outputs": [],
   "source": []
  },
  {
   "cell_type": "code",
   "execution_count": null,
   "metadata": {},
   "outputs": [],
   "source": []
  },
  {
   "cell_type": "code",
   "execution_count": null,
   "metadata": {},
   "outputs": [],
   "source": []
  },
  {
   "cell_type": "markdown",
   "metadata": {},
   "source": [
    "## OLD TIMING COMPARISON"
   ]
  },
  {
   "cell_type": "code",
   "execution_count": 195,
   "metadata": {},
   "outputs": [
    {
     "data": {
      "text/html": [
       "<div>\n",
       "<style scoped>\n",
       "    .dataframe tbody tr th:only-of-type {\n",
       "        vertical-align: middle;\n",
       "    }\n",
       "\n",
       "    .dataframe tbody tr th {\n",
       "        vertical-align: top;\n",
       "    }\n",
       "\n",
       "    .dataframe thead th {\n",
       "        text-align: right;\n",
       "    }\n",
       "</style>\n",
       "<table border=\"1\" class=\"dataframe\">\n",
       "  <thead>\n",
       "    <tr style=\"text-align: right;\">\n",
       "      <th></th>\n",
       "      <th>model</th>\n",
       "      <th>Training Time</th>\n",
       "      <th>Inference Time</th>\n",
       "    </tr>\n",
       "  </thead>\n",
       "  <tbody>\n",
       "    <tr>\n",
       "      <th>0</th>\n",
       "      <td>lgbm-fs</td>\n",
       "      <td>114.898307</td>\n",
       "      <td>3.202758</td>\n",
       "    </tr>\n",
       "    <tr>\n",
       "      <th>1</th>\n",
       "      <td>xgboost-fs</td>\n",
       "      <td>4641.437932</td>\n",
       "      <td>0.961756</td>\n",
       "    </tr>\n",
       "    <tr>\n",
       "      <th>2</th>\n",
       "      <td>rf-fs</td>\n",
       "      <td>240.480658</td>\n",
       "      <td>1.836621</td>\n",
       "    </tr>\n",
       "  </tbody>\n",
       "</table>\n",
       "</div>"
      ],
      "text/plain": [
       "        model  Training Time  Inference Time\n",
       "0     lgbm-fs     114.898307        3.202758\n",
       "1  xgboost-fs    4641.437932        0.961756\n",
       "2       rf-fs     240.480658        1.836621"
      ]
     },
     "execution_count": 195,
     "metadata": {},
     "output_type": "execute_result"
    }
   ],
   "source": [
    "with open(model_config['results_dir'] / 'time_dict_fs.json') as f:\n",
    "    time_dict = json.load(f)\n",
    "    \n",
    "dataframe = pd.DataFrame.from_dict(time_dict).transpose()#,orient='index',columns=['a','b','c','d','e'])\n",
    "dataframe.round(2)\n",
    "dataframe.index.name = 'model'\n",
    "dataframe.reset_index(inplace=True)\n",
    "dataframe.rename(columns={'training_time':'Training Time','inference_time':'Inference Time'},inplace=True)\n",
    "dataframe"
   ]
  },
  {
   "cell_type": "code",
   "execution_count": 196,
   "metadata": {},
   "outputs": [],
   "source": [
    "#added this due to thread thingy\n",
    "dataframe.loc[dataframe['model'] == 'rf-fs','Training Time']= dataframe[dataframe['model'] == 'rf-fs']['Training Time'].values[0]*5\n",
    "dataframe.loc[dataframe['model'] == 'rf-fs','Inference Time']= dataframe[dataframe['model'] == 'rf-fs']['Inference Time'].values[0]*3"
   ]
  },
  {
   "cell_type": "code",
   "execution_count": 200,
   "metadata": {},
   "outputs": [],
   "source": [
    "dataframe = pd.melt(dataframe, id_vars=['model'],value_vars=['Training Time','Inference Time'],value_name='time')\n",
    "\n",
    "dataframe.loc[dataframe['variable'] == 'Training Time','scaled_time'] = dataframe.loc[dataframe['variable'] == 'Training Time']['time'] / min(dataframe.loc[dataframe['variable'] == 'Training Time']['time'])\n",
    "dataframe.loc[dataframe['variable'] == 'Inference Time','scaled_time'] = dataframe.loc[dataframe['variable'] == 'Inference Time']['time'] / min(dataframe.loc[dataframe['variable'] == 'Inference Time']['time'])\n",
    "dataframe.sort_values('scaled_time',inplace=True)"
   ]
  },
  {
   "cell_type": "code",
   "execution_count": 201,
   "metadata": {
    "scrolled": true
   },
   "outputs": [
    {
     "data": {
      "image/png": "[encoded data removed]",
      "text/plain": [
       "<Figure size 1312.05x432 with 1 Axes>"
      ]
     },
     "metadata": {},
     "output_type": "display_data"
    }
   ],
   "source": [
    "palette= sns.color_palette(\"tab10\")\n",
    "\n",
    "sns.set_style(\"whitegrid\")\n",
    "sns.set_context(\"talk\")\n",
    "\n",
    "g = sns.catplot(x='variable',y='scaled_time',                \n",
    "                 palette = palette[3:6],\n",
    "                 kind = 'bar',\n",
    "                 #ax = axs[1],\n",
    "                 height=6, aspect=2.7,\n",
    "                 hue = 'model',\n",
    "                 order =['Training Time','Inference Time'],\n",
    "                 data=dataframe)\n",
    "plt.title('Training and Inference Time Comparison',pad=30,fontdict={'fontsize': 20,'fontweight':'bold'})\n",
    "plt.ylabel('Relative Time')\n",
    "plt.xlabel('')\n",
    "plt.yticks([])\n",
    "#plt.xtickslabels(['Training Time','Inference Time'])\n",
    "\n",
    "ax = g.facet_axis(0,0)\n",
    "for p in ax.patches:\n",
    "    ax.text(p.get_x() + 0.05, \n",
    "            p.get_height() * 1.05, \n",
    "           '{0:.1f}x'.format(p.get_height()),   #Used to format it K representation\n",
    "            color='black', \n",
    "            rotation='horizontal', \n",
    "            size='large')"
   ]
  },
  {
   "cell_type": "code",
   "execution_count": null,
   "metadata": {},
   "outputs": [],
   "source": []
  },
  {
   "cell_type": "code",
   "execution_count": null,
   "metadata": {},
   "outputs": [],
   "source": []
  },
  {
   "cell_type": "code",
   "execution_count": null,
   "metadata": {},
   "outputs": [],
   "source": []
  },
  {
   "cell_type": "code",
   "execution_count": null,
   "metadata": {},
   "outputs": [],
   "source": []
  },
  {
   "cell_type": "code",
   "execution_count": null,
   "metadata": {},
   "outputs": [],
   "source": []
  },
  {
   "cell_type": "code",
   "execution_count": null,
   "metadata": {},
   "outputs": [],
   "source": [
    "#comingfrom when we run random forest with out nthread "
   ]
  },
  {
   "cell_type": "code",
   "execution_count": 130,
   "metadata": {},
   "outputs": [
    {
     "data": {
      "image/png": "[encoded data removed]",
      "text/plain": [
       "<Figure size 1291.68x432 with 1 Axes>"
      ]
     },
     "metadata": {},
     "output_type": "display_data"
    }
   ],
   "source": [
    "palette= sns.color_palette(\"tab10\")\n",
    "\n",
    "sns.set_style(\"whitegrid\")\n",
    "sns.set_context(\"talk\")\n",
    "\n",
    "g = sns.catplot(x='variable',y='time',                \n",
    "                 palette = palette[4:7],\n",
    "                 kind = 'bar',\n",
    "                 #ax = axs[1],\n",
    "                height=6, aspect=2.7,\n",
    "                hue = 'model',\n",
    "                 data=dataframe)\n",
    "plt.title('Training and Inference Time Comparison')\n",
    "plt.ylabel('Relative Time')\n",
    "plt.xlabel('')\n",
    "plt.yticks([])\n",
    "\n",
    "ax = g.facet_axis(0,0)\n",
    "for p in ax.patches:\n",
    "    ax.text(p.get_x() + 0.05, \n",
    "            p.get_height() * 1.05, \n",
    "           '{0:.1f}x'.format(p.get_height()),   #Used to format it K representation\n",
    "            color='black', \n",
    "            rotation='horizontal', \n",
    "            size='large')"
   ]
  },
  {
   "cell_type": "markdown",
   "metadata": {},
   "source": [
    "## Single Plot for Paper "
   ]
  },
  {
   "cell_type": "code",
   "execution_count": 20,
   "metadata": {},
   "outputs": [
    {
     "data": {
      "text/plain": [
       "Text(0.5, 1.0, 'F1-Scores for Window Size 45')"
      ]
     },
     "execution_count": 20,
     "metadata": {},
     "output_type": "execute_result"
    },
    {
     "data": {
      "image/png": "[encoded data removed]",
      "text/plain": [
       "<Figure size 864x576 with 1 Axes>"
      ]
     },
     "metadata": {},
     "output_type": "display_data"
    }
   ],
   "source": [
    "sns.barplot(x='anomaly',y='f1-score',                \n",
    "                 palette = palette,\n",
    "                 dodge=False,                                  \n",
    "                 data=f1_score_df[f1_score_df['model'] == 'rf'])\n",
    "\n",
    "plt.title('F1-Scores for Window Size '+str(model_config['window_size']))"
   ]
  },
  {
   "cell_type": "code",
   "execution_count": null,
   "metadata": {},
   "outputs": [],
   "source": [
    "sns.barplot(y='false_alarm_rate',x='model',hue='model',\n",
    "            #style='model',\n",
    "            palette = palette,   \n",
    "            dodge=False,\n",
    "            data=alarm_score_df,ax=axs[1],capsize=.1)\n",
    "\n",
    "axs[1].set_title('False Alarm Rate',\n",
    "              pad=20)\n",
    "axs[1].set_xlabel(\"\")\n",
    "axs[1].set_ylabel('')"
   ]
  },
  {
   "cell_type": "code",
   "execution_count": null,
   "metadata": {},
   "outputs": [],
   "source": []
  },
  {
   "cell_type": "code",
   "execution_count": null,
   "metadata": {},
   "outputs": [],
   "source": []
  },
  {
   "cell_type": "code",
   "execution_count": null,
   "metadata": {},
   "outputs": [],
   "source": []
  }
 ],
 "metadata": {
  "kernelspec": {
   "display_name": "Python 3",
   "language": "python",
   "name": "python3"
  },
  "language_info": {
   "codemirror_mode": {
    "name": "ipython",
    "version": 3
   },
   "file_extension": ".py",
   "mimetype": "text/x-python",
   "name": "python",
   "nbconvert_exporter": "python",
   "pygments_lexer": "ipython3",
   "version": "3.6.8"
  }
 },
 "nbformat": 4,
 "nbformat_minor": 4
}
